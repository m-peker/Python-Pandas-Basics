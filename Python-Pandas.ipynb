{
 "cells": [
  {
   "cell_type": "markdown",
   "metadata": {},
   "source": [
    "# Python Pandas"
   ]
  },
  {
   "cell_type": "code",
   "execution_count": null,
   "metadata": {},
   "outputs": [],
   "source": [
    "'''Pandas is an open-source, BSD-licensed Python library providing high-performance, \n",
    "easy-to-use data structures and data analysis tools for the Python programming language. \n",
    "Python with Pandas is used in a wide range of fields including academic and commercial domains including \n",
    "finance, economics, Statistics, analytics, etc. In this tutorial, we will learn the various features of \n",
    "Python Pandas and how to use them in practice.\n",
    "'''"
   ]
  },
  {
   "cell_type": "code",
   "execution_count": null,
   "metadata": {},
   "outputs": [],
   "source": [
    "'''This tutorial has been prepared for those who seek to learn the basics and various functions of Pandas. \n",
    "It will be specifically useful for people working with data cleansing and analysis.'''"
   ]
  },
  {
   "cell_type": "markdown",
   "metadata": {},
   "source": [
    "# Pandas Cheat Sheet"
   ]
  },
  {
   "cell_type": "markdown",
   "metadata": {},
   "source": [
    "[Pandas Comprehensive Document](https://github.com/m-peker/Python-Pandas-Basics/blob/master/Pandas.pdf)"
   ]
  },
  {
   "cell_type": "markdown",
   "metadata": {},
   "source": [
    "# Basic Methods"
   ]
  },
  {
   "cell_type": "code",
   "execution_count": 37,
   "metadata": {},
   "outputs": [
    {
     "name": "stdout",
     "output_type": "stream",
     "text": [
      "    NAME  AGE  MAAS\n",
      "0    ali   15   100\n",
      "1   veli   16   150\n",
      "2  kenan   17   240\n",
      "3  hilal   33   350\n",
      "4   ayse   45   110\n",
      "5  evren   66   220\n",
      "----------------------------\n",
      "    NAME  AGE  MAAS\n",
      "0    ali   15   100\n",
      "1   veli   16   150\n",
      "2  kenan   17   240\n",
      "----------------------------\n",
      "    NAME  AGE  MAAS\n",
      "4   ayse   45   110\n",
      "5  evren   66   220\n"
     ]
    }
   ],
   "source": [
    "import pandas as pd\n",
    "\n",
    "dictionary = {\"NAME\":[\"ali\",\"veli\",\"kenan\",\"hilal\",\"ayse\",\"evren\"],\n",
    "              \"AGE\":[15,16,17,33,45,66],\n",
    "              \"MAAS\": [100,150,240,350,110,220]} \n",
    "\n",
    "dataFrame1 = pd.DataFrame(dictionary)\n",
    "print(dataFrame1)\n",
    "print(\"----------------------------\")\n",
    "head = dataFrame1.head(3) # To see the first n rows\n",
    "print(head)\n",
    "print(\"----------------------------\")\n",
    "tail = dataFrame1.tail(2) # To see the last n rows\n",
    "print(tail)"
   ]
  },
  {
   "cell_type": "code",
   "execution_count": 38,
   "metadata": {},
   "outputs": [
    {
     "name": "stdout",
     "output_type": "stream",
     "text": [
      "Index(['NAME', 'AGE', 'MAAS'], dtype='object')\n",
      "----------------------------\n",
      "<class 'pandas.core.frame.DataFrame'>\n",
      "RangeIndex: 6 entries, 0 to 5\n",
      "Data columns (total 3 columns):\n",
      "NAME    6 non-null object\n",
      "AGE     6 non-null int64\n",
      "MAAS    6 non-null int64\n",
      "dtypes: int64(2), object(1)\n",
      "memory usage: 224.0+ bytes\n",
      "None\n",
      "----------------------------\n",
      "NAME    object\n",
      "AGE      int64\n",
      "MAAS     int64\n",
      "dtype: object\n",
      "----------------------------\n",
      "             AGE        MAAS\n",
      "count   6.000000    6.000000\n",
      "mean   32.000000  195.000000\n",
      "std    20.474374   94.815611\n",
      "min    15.000000  100.000000\n",
      "25%    16.250000  120.000000\n",
      "50%    25.000000  185.000000\n",
      "75%    42.000000  235.000000\n",
      "max    66.000000  350.000000\n"
     ]
    }
   ],
   "source": [
    "print(dataFrame1.columns) # The column labels of the DataFrame.\n",
    "print(\"----------------------------\")\n",
    "\n",
    "print(dataFrame1.info()) # Getting info about your data\n",
    "print(\"----------------------------\")\n",
    "\n",
    "print(dataFrame1.dtypes) # print(dataFrame1.dtypes)\n",
    "print(\"----------------------------\")\n",
    "\n",
    "print(dataFrame1.describe())  # numeric feature = columns (age,maas)"
   ]
  },
  {
   "cell_type": "markdown",
   "metadata": {},
   "source": [
    "# Indexing and Slicing Data Frames"
   ]
  },
  {
   "cell_type": "code",
   "execution_count": 39,
   "metadata": {},
   "outputs": [
    {
     "name": "stdout",
     "output_type": "stream",
     "text": [
      "0    15\n",
      "1    16\n",
      "2    17\n",
      "3    33\n",
      "4    45\n",
      "5    66\n",
      "Name: AGE, dtype: int64\n",
      "----------------------------\n",
      "0    15\n",
      "1    16\n",
      "2    17\n",
      "3    33\n",
      "4    45\n",
      "5    66\n",
      "Name: AGE, dtype: int64\n",
      "----------------------------\n",
      "0    15\n",
      "1    16\n",
      "2    17\n",
      "3    33\n",
      "4    45\n",
      "5    66\n",
      "Name: AGE, dtype: int64\n",
      "----------------------------\n",
      "0    15\n",
      "1    16\n",
      "2    17\n",
      "3    33\n",
      "Name: AGE, dtype: int64\n",
      "----------------------------\n",
      "   AGE   NAME\n",
      "0   15    ali\n",
      "1   16   veli\n",
      "2   17  kenan\n",
      "3   33  hilal\n",
      "----------------------------\n",
      "    NAME  AGE  MAAS  yeni_feature\n",
      "5  evren   66   220            -6\n",
      "4   ayse   45   110            -5\n",
      "3  hilal   33   350            -4\n",
      "2  kenan   17   240            -3\n",
      "1   veli   16   150            -2\n",
      "0    ali   15   100            -1\n",
      "----------------------------\n",
      "    NAME\n",
      "0    ali\n",
      "1   veli\n",
      "2  kenan\n",
      "3  hilal\n",
      "4   ayse\n",
      "5  evren\n",
      "----------------------------\n",
      "0      ali\n",
      "1     veli\n",
      "2    kenan\n",
      "3    hilal\n",
      "4     ayse\n",
      "5    evren\n",
      "Name: NAME, dtype: object\n",
      "----------------------------\n",
      "0    100\n",
      "1    150\n",
      "2    240\n",
      "3    350\n",
      "4    110\n",
      "5    220\n",
      "Name: MAAS, dtype: int64\n"
     ]
    }
   ],
   "source": [
    "print(dataFrame1[\"AGE\"])\n",
    "print(\"----------------------------\")\n",
    "\n",
    "print(dataFrame1.AGE)\n",
    "print(\"----------------------------\")\n",
    "\n",
    "dataFrame1[\"yeni_feature\"] = [-1,-2,-3,-4,-5,-6]\n",
    "\n",
    "print(dataFrame1.loc[:, \"AGE\"])\n",
    "print(\"----------------------------\")\n",
    "\n",
    "print(dataFrame1.loc[:3, \"AGE\"])\n",
    "print(\"----------------------------\")\n",
    "\n",
    "print(dataFrame1.loc[:3, [\"AGE\",\"NAME\"]])\n",
    "print(\"----------------------------\")\n",
    "\n",
    "print(dataFrame1.loc[::-1,:])\n",
    "print(\"----------------------------\")\n",
    "\n",
    "print(dataFrame1.loc[:,:\"NAME\"])\n",
    "print(\"----------------------------\")\n",
    "\n",
    "print(dataFrame1.loc[:,\"NAME\"])\n",
    "print(\"----------------------------\")\n",
    "\n",
    "print(dataFrame1.iloc[:,2])"
   ]
  },
  {
   "cell_type": "markdown",
   "metadata": {},
   "source": [
    "# Filtering Pandas Data Frame"
   ]
  },
  {
   "cell_type": "code",
   "execution_count": 40,
   "metadata": {},
   "outputs": [
    {
     "name": "stdout",
     "output_type": "stream",
     "text": [
      "    NAME  AGE  MAAS  yeni_feature\n",
      "2  kenan   17   240            -3\n",
      "3  hilal   33   350            -4\n",
      "5  evren   66   220            -6\n",
      "----------------------------\n",
      "0     True\n",
      "1     True\n",
      "2     True\n",
      "3    False\n",
      "4    False\n",
      "5    False\n",
      "Name: AGE, dtype: bool\n",
      "----------------------------\n"
     ]
    },
    {
     "data": {
      "text/html": [
       "<div>\n",
       "<style scoped>\n",
       "    .dataframe tbody tr th:only-of-type {\n",
       "        vertical-align: middle;\n",
       "    }\n",
       "\n",
       "    .dataframe tbody tr th {\n",
       "        vertical-align: top;\n",
       "    }\n",
       "\n",
       "    .dataframe thead th {\n",
       "        text-align: right;\n",
       "    }\n",
       "</style>\n",
       "<table border=\"1\" class=\"dataframe\">\n",
       "  <thead>\n",
       "    <tr style=\"text-align: right;\">\n",
       "      <th></th>\n",
       "      <th>NAME</th>\n",
       "      <th>AGE</th>\n",
       "      <th>MAAS</th>\n",
       "      <th>yeni_feature</th>\n",
       "    </tr>\n",
       "  </thead>\n",
       "  <tbody>\n",
       "    <tr>\n",
       "      <th>2</th>\n",
       "      <td>kenan</td>\n",
       "      <td>17</td>\n",
       "      <td>240</td>\n",
       "      <td>-3</td>\n",
       "    </tr>\n",
       "  </tbody>\n",
       "</table>\n",
       "</div>"
      ],
      "text/plain": [
       "    NAME  AGE  MAAS  yeni_feature\n",
       "2  kenan   17   240            -3"
      ]
     },
     "execution_count": 40,
     "metadata": {},
     "output_type": "execute_result"
    }
   ],
   "source": [
    "filtre1 = dataFrame1.MAAS > 200\n",
    "\n",
    "filtrelenmis_data = dataFrame1[filtre1]\n",
    "\n",
    "print(filtrelenmis_data)\n",
    "print(\"----------------------------\")\n",
    "\n",
    "filtre2 = dataFrame1.AGE <20\n",
    "\n",
    "print(filtre2)\n",
    "print(\"----------------------------\")\n",
    "\n",
    "dataFrame1[filtre1 & filtre2]"
   ]
  },
  {
   "cell_type": "markdown",
   "metadata": {},
   "source": [
    "# List Comprehension"
   ]
  },
  {
   "cell_type": "code",
   "execution_count": 48,
   "metadata": {},
   "outputs": [
    {
     "name": "stdout",
     "output_type": "stream",
     "text": [
      "    NAME  AGE  MAAS maas_seviyesi\n",
      "0    ali   15   100         dusuk\n",
      "1   veli   16   150         dusuk\n",
      "2  kenan   17   240        yuksek\n",
      "3  hilal   33   350        yuksek\n",
      "4   ayse   45   110         dusuk\n",
      "5  evren   66   220        yuksek\n",
      "----------------------------\n",
      "Index(['NAME', 'AGE', 'MAAS', 'maas_seviyesi'], dtype='object')\n",
      "----------------------------\n",
      "Index(['name', 'age', 'maas', 'maas_seviyesi'], dtype='object')\n",
      "----------------------------\n",
      "Index(['name', 'age', 'maas', 'maas_seviyesi'], dtype='object')\n"
     ]
    }
   ],
   "source": [
    "# import numpy as np\n",
    "\n",
    "dictionary = {\"NAME\":[\"ali\",\"veli\",\"kenan\",\"hilal\",\"ayse\",\"evren\"],\n",
    "              \"AGE\":[15,16,17,33,45,66],\n",
    "              \"MAAS\": [100,150,240,350,110,220]} \n",
    "\n",
    "dataFrame1 = pd.DataFrame(dictionary)\n",
    "\n",
    "\n",
    "ortalama_maas = dataFrame1.MAAS.mean()\n",
    "\n",
    "# ortalama_maas_np = np.mean(dataFrame1.MAAS)\n",
    "\n",
    "\n",
    "dataFrame1[\"maas_seviyesi\"] = [\"dusuk\" if ortalama_maas > each else \"yuksek\" for each in dataFrame1.MAAS]\n",
    "\n",
    "#for each in dataFrame1.MAAS:\n",
    "#    if(ortalama_maas > each):\n",
    "#        print(\"dusuk\")\n",
    "#    else:\n",
    "#        print(\"yukse\")\n",
    "        \n",
    "print(dataFrame1)\n",
    "print(\"----------------------------\")\n",
    "\n",
    "print(dataFrame1.columns)\n",
    "print(\"----------------------------\")\n",
    "\n",
    "dataFrame1.columns = [ each.lower() for each in dataFrame1.columns] \n",
    "print(dataFrame1.columns)\n",
    "print(\"----------------------------\")\n",
    "\n",
    "dataFrame1.columns = [each.split()[0]+\"_\"+each.split()[1] if(len(each.split())>1) else each for each in dataFrame1.columns]\n",
    "print(dataFrame1.columns)"
   ]
  },
  {
   "cell_type": "markdown",
   "metadata": {},
   "source": [
    "# Concatenating Data"
   ]
  },
  {
   "cell_type": "code",
   "execution_count": 54,
   "metadata": {},
   "outputs": [
    {
     "name": "stdout",
     "output_type": "stream",
     "text": [
      "    name  age  maas maas_seviyesi\n",
      "0    ali   15   100         dusuk\n",
      "1   veli   16   150         dusuk\n",
      "2  kenan   17   240        yuksek\n",
      "3  hilal   33   350        yuksek\n",
      "4   ayse   45   110         dusuk\n",
      "1   veli   16   150         dusuk\n",
      "2  kenan   17   240        yuksek\n",
      "3  hilal   33   350        yuksek\n",
      "4   ayse   45   110         dusuk\n",
      "5  evren   66   220        yuksek\n",
      "----------------------------\n",
      "   maas  age\n",
      "0   100   15\n",
      "1   150   16\n",
      "2   240   17\n",
      "3   350   33\n",
      "4   110   45\n",
      "5   220   66\n"
     ]
    }
   ],
   "source": [
    "# dataFrame1.drop([\"yeni_feature\"],axis=1,inplace = True)\n",
    "\n",
    "# dataFrame1 = dataFrame1.drop([\"yeni_feature\"],axis=1)\n",
    "\n",
    "data1 = dataFrame1.head()\n",
    "data2 = dataFrame1.tail()\n",
    "\n",
    "# vertical\n",
    "data_concat = pd.concat([data1,data2],axis=0)\n",
    "print(data_concat)\n",
    "print(\"----------------------------\")\n",
    "\n",
    "# horizontal\n",
    "\n",
    "maas = dataFrame1.maas\n",
    "age = dataFrame1.age\n",
    "\n",
    "data_h_concat = pd.concat([maas,age],axis=1)\n",
    "\n",
    "print(data_h_concat)"
   ]
  },
  {
   "cell_type": "markdown",
   "metadata": {},
   "source": [
    "# Transforming Data"
   ]
  },
  {
   "cell_type": "code",
   "execution_count": 58,
   "metadata": {},
   "outputs": [
    {
     "name": "stdout",
     "output_type": "stream",
     "text": [
      "    name  age  maas maas_seviyesi  list_comp  apply_metodu\n",
      "0    ali   15   100         dusuk         30            30\n",
      "1   veli   16   150         dusuk         32            32\n",
      "2  kenan   17   240        yuksek         34            34\n",
      "3  hilal   33   350        yuksek         66            66\n",
      "4   ayse   45   110         dusuk         90            90\n",
      "5  evren   66   220        yuksek        132           132\n",
      "----------------------------\n"
     ]
    }
   ],
   "source": [
    "dataFrame1[\"list_comp\"] = [ each*2 for each in dataFrame1.age]\n",
    "print(dataFrame1)\n",
    "print(\"----------------------------\")\n",
    "\n",
    "# apply()\n",
    "def multiply(age):\n",
    "    return age*2\n",
    "    \n",
    "dataFrame1[\"apply_metodu\"] = dataFrame1.age.apply(multiply)\n"
   ]
  }
 ],
 "metadata": {
  "kernelspec": {
   "display_name": "Python 3",
   "language": "python",
   "name": "python3"
  },
  "language_info": {
   "codemirror_mode": {
    "name": "ipython",
    "version": 3
   },
   "file_extension": ".py",
   "mimetype": "text/x-python",
   "name": "python",
   "nbconvert_exporter": "python",
   "pygments_lexer": "ipython3",
   "version": "3.7.3"
  }
 },
 "nbformat": 4,
 "nbformat_minor": 2
}
